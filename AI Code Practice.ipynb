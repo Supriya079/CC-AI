{
 "cells": [
  {
   "cell_type": "markdown",
   "id": "805f8054",
   "metadata": {},
   "source": [
    "# NQUEEN Problem"
   ]
  },
  {
   "cell_type": "code",
   "execution_count": 2,
   "id": "52da20f1",
   "metadata": {},
   "outputs": [
    {
     "name": "stdout",
     "output_type": "stream",
     "text": [
      "0 0 1 0 \n",
      "1 0 0 0 \n",
      "0 0 0 1 \n",
      "0 1 0 0 \n"
     ]
    },
    {
     "data": {
      "text/plain": [
       "True"
      ]
     },
     "execution_count": 2,
     "metadata": {},
     "output_type": "execute_result"
    }
   ],
   "source": [
    "global N\n",
    "N = 4\n",
    "\n",
    "\n",
    "def printSolution(board):\n",
    "    for i in range(N):\n",
    "        for j in range(N):\n",
    "            print(board[i][j], end=\" \")\n",
    "        print()\n",
    "\n",
    "\n",
    "def isSafe(board, row, col):\n",
    "    for i in range(col):\n",
    "        if board[row][i] == 1:\n",
    "            return False\n",
    "    for i, j in zip(range(row, -1, -1), range(col, -1, -1)):\n",
    "        if board[i][j] == 1:\n",
    "            return False\n",
    "    for i, j in zip(range(row, N, 1), range(col, -1, -1)):\n",
    "        if board[i][j] == 1:\n",
    "            return False\n",
    "    return True\n",
    "\n",
    "\n",
    "def solveNQ(board, col):\n",
    "    if col >= N:\n",
    "        return True\n",
    "    for i in range(N):\n",
    "        if isSafe(board, i, col):\n",
    "            board[i][col] = 1\n",
    "            if solveNQ(board, col + 1) == True:\n",
    "                return True\n",
    "            board[i][col] = 0\n",
    "    return False\n",
    "\n",
    "\n",
    "def solveQueens():\n",
    "    board = [[0, 0, 0, 0],\n",
    "             [0, 0, 0, 0],\n",
    "             [0, 0, 0, 0],\n",
    "             [0, 0, 0, 0]]\n",
    "    if solveNQ(board, 0) == False:\n",
    "        return False\n",
    "    printSolution(board)\n",
    "    return True\n",
    "\n",
    "\n",
    "solveQueens()\n"
   ]
  },
  {
   "cell_type": "markdown",
   "id": "e5287ee9",
   "metadata": {},
   "source": [
    "# ChatBot"
   ]
  },
  {
   "cell_type": "code",
   "execution_count": 6,
   "id": "981b3135",
   "metadata": {},
   "outputs": [],
   "source": [
    "from tkinter import *\n",
    "root = Tk()\n",
    "root.title(\"Chatbot\")\n",
    "\n",
    "def send():\n",
    "    input = \"You: \"+e.get()\n",
    "    txt.insert(END,input)\n",
    "    user = e.get().lower()\n",
    "    if(user == \"hi\"):\n",
    "        txt.insert(END,\"\\n BOT : Hello\")\n",
    "    e.delete(0,END)\n",
    "\n",
    "txt = Text(root)\n",
    "txt.grid(row=0, column=0, columnspan=2)\n",
    "e = Entry(root,width=100)\n",
    "e.grid(row=1,column=0)\n",
    "btn = Button(root,text=\"Send\",command=send).grid(row=1,column=1)\n",
    "root.mainloop()"
   ]
  },
  {
   "cell_type": "markdown",
   "id": "1564d4c4",
   "metadata": {},
   "source": [
    "# Selection sort"
   ]
  },
  {
   "cell_type": "code",
   "execution_count": 8,
   "id": "4384a30a",
   "metadata": {},
   "outputs": [
    {
     "name": "stdout",
     "output_type": "stream",
     "text": [
      "20 30 35 40 70 "
     ]
    }
   ],
   "source": [
    "import sys\n",
    "\n",
    "A = [30,20,70,40,35]\n",
    "\n",
    "for i in range(len(A)):\n",
    "    min_i = i\n",
    "    for j in range(i+1,len(A)):\n",
    "        if A[min_i] > A[j]:\n",
    "            min_i = j\n",
    "        \n",
    "    A[i],A[min_i] = A[min_i],A[i]\n",
    "\n",
    "for i in range(len(A)):\n",
    "    print(A[i],end=\" \")      "
   ]
  },
  {
   "cell_type": "markdown",
   "id": "e3d54deb",
   "metadata": {},
   "source": [
    "# A* for 8 puzzle"
   ]
  },
  {
   "cell_type": "code",
   "execution_count": null,
   "id": "f9a0b7b1",
   "metadata": {},
   "outputs": [],
   "source": []
  }
 ],
 "metadata": {
  "kernelspec": {
   "display_name": "Python 3 (ipykernel)",
   "language": "python",
   "name": "python3"
  },
  "language_info": {
   "codemirror_mode": {
    "name": "ipython",
    "version": 3
   },
   "file_extension": ".py",
   "mimetype": "text/x-python",
   "name": "python",
   "nbconvert_exporter": "python",
   "pygments_lexer": "ipython3",
   "version": "3.9.7"
  }
 },
 "nbformat": 4,
 "nbformat_minor": 5
}
