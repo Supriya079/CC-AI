{
 "cells": [
  {
   "cell_type": "markdown",
   "id": "8d51d220",
   "metadata": {},
   "source": [
    "# NQUEEN Problem"
   ]
  },
  {
   "cell_type": "code",
   "execution_count": 2,
   "id": "4fdfd724",
   "metadata": {},
   "outputs": [
    {
     "name": "stdout",
     "output_type": "stream",
     "text": [
      "0 0 1 0 \n",
      "1 0 0 0 \n",
      "0 0 0 1 \n",
      "0 1 0 0 \n"
     ]
    },
    {
     "data": {
      "text/plain": [
       "True"
      ]
     },
     "execution_count": 2,
     "metadata": {},
     "output_type": "execute_result"
    }
   ],
   "source": [
    "global N\n",
    "N = 4\n",
    "\n",
    "\n",
    "def printSolution(board):\n",
    "    for i in range(N):\n",
    "        for j in range(N):\n",
    "            print(board[i][j], end=\" \")\n",
    "        print()\n",
    "\n",
    "\n",
    "def isSafe(board, row, col):\n",
    "    for i in range(col):\n",
    "        if board[row][i] == 1:\n",
    "            return False\n",
    "    for i, j in zip(range(row, -1, -1), range(col, -1, -1)):\n",
    "        if board[i][j] == 1:\n",
    "            return False\n",
    "    for i, j in zip(range(row, N, 1), range(col, -1, -1)):\n",
    "        if board[i][j] == 1:\n",
    "            return False\n",
    "    return True\n",
    "\n",
    "\n",
    "def solveNQ(board, col):\n",
    "    if col >= N:\n",
    "        return True\n",
    "    for i in range(N):\n",
    "        if isSafe(board, i, col):\n",
    "            board[i][col] = 1\n",
    "            if solveNQ(board, col + 1) == True:\n",
    "                return True\n",
    "            board[i][col] = 0\n",
    "    return False\n",
    "\n",
    "\n",
    "def solveQueens():\n",
    "    board = [[0, 0, 0, 0],\n",
    "             [0, 0, 0, 0],\n",
    "             [0, 0, 0, 0],\n",
    "             [0, 0, 0, 0]]\n",
    "    if solveNQ(board, 0) == False:\n",
    "        return False\n",
    "    printSolution(board)\n",
    "    return True\n",
    "\n",
    "\n",
    "solveQueens()\n"
   ]
  },
  {
   "cell_type": "markdown",
   "id": "c230047e",
   "metadata": {},
   "source": [
    "# ChatBot"
   ]
  },
  {
   "cell_type": "code",
   "execution_count": 6,
   "id": "d8ed170f",
   "metadata": {},
   "outputs": [],
   "source": [
    "from tkinter import *\n",
    "root = Tk()\n",
    "root.title(\"Chatbot\")\n",
    "\n",
    "def send():\n",
    "    input = \"You: \"+e.get()\n",
    "    txt.insert(END,input)\n",
    "    user = e.get().lower()\n",
    "    if(user == \"hi\"):\n",
    "        txt.insert(END,\"\\n BOT : Hello\")\n",
    "    e.delete(0,END)\n",
    "\n",
    "txt = Text(root)\n",
    "txt.grid(row=0, column=0, columnspan=2)\n",
    "e = Entry(root,width=100)\n",
    "e.grid(row=1,column=0)\n",
    "btn = Button(root,text=\"Send\",command=send).grid(row=1,column=1)\n",
    "root.mainloop()"
   ]
  },
  {
   "cell_type": "markdown",
   "id": "c8f0d9c6",
   "metadata": {},
   "source": [
    "# Selection sort"
   ]
  },
  {
   "cell_type": "code",
   "execution_count": 8,
   "id": "e2d1abf6",
   "metadata": {},
   "outputs": [
    {
     "name": "stdout",
     "output_type": "stream",
     "text": [
      "20 30 35 40 70 "
     ]
    }
   ],
   "source": [
    "import sys\n",
    "\n",
    "A = [30,20,70,40,35]\n",
    "\n",
    "for i in range(len(A)):\n",
    "    min_i = i\n",
    "    for j in range(i+1,len(A)):\n",
    "        if A[min_i] > A[j]:\n",
    "            min_i = j\n",
    "        \n",
    "    A[i],A[min_i] = A[min_i],A[i]\n",
    "\n",
    "for i in range(len(A)):\n",
    "    print(A[i],end=\" \")      "
   ]
  },
  {
   "cell_type": "markdown",
   "id": "3253b4fc",
   "metadata": {},
   "source": [
    "# A* for 8 puzzle"
   ]
  },
  {
   "cell_type": "code",
   "execution_count": null,
   "id": "c8d1edd0",
   "metadata": {},
   "outputs": [],
   "source": [
    "def print_in_format(matrix):\n",
    "    for i in range(9):\n",
    "        if i%3 == 0 and i>0:\n",
    "            print(\"\")\n",
    "        print(str(matrix[i])+\" \", end=\" \")\n",
    "\n",
    "def count(s):\n",
    "    c = 0\n",
    "    ideal = [1, 2, 3,\n",
    "             4, 5, 6,\n",
    "             7, 8, 0]\n",
    "\n",
    "    for i in range(9):\n",
    "        if s[i] != 0 and s[i] != ideal[i]:\n",
    "            c += 1\n",
    "    return c\n",
    "\n",
    "def move(ar, p, st):\n",
    "    rh = 999999\n",
    "    store_st = st.copy()\n",
    "\n",
    "    for i in range(len(ar)):\n",
    "        dupl_st = st.copy()\n",
    "        temp = dupl_st[p]\n",
    "        dupl_st[p] = dupl_st[arr[i]]\n",
    "        dupl_st[arr[i]] = temp\n",
    "\n",
    "        temp_rh = count(dupl_st)\n",
    "\n",
    "        if temp_rh < rh:\n",
    "            rh = temp_rh\n",
    "            store_st = dupl_st.copy()\n",
    "\n",
    "    return store_st, rh\n",
    "\n",
    "state = [1, 2, 3,\n",
    "         4, 5, 6,\n",
    "         0, 7, 8]\n",
    "\n",
    "h = count(state)\n",
    "Level = 1\n",
    "\n",
    "print(\"\\n------ Level \"+str(Level)+\" ------\")\n",
    "print_in_format(state)\n",
    "print(\"\\nHeuristic Value(Misplaced) : \"+str(h))\n",
    "\n",
    "while h>0:\n",
    "    pos = int(state.index(0))\n",
    "    Level += 1\n",
    "    if pos == 0:\n",
    "        arr = [1, 3]\n",
    "        state, h = move(arr, pos, state)\n",
    "    elif pos == 1:\n",
    "        arr = [0, 2, 4]\n",
    "        state, h = move(arr, pos, state)\n",
    "    elif pos == 2:\n",
    "        arr = [1, 5]\n",
    "        state, h = move(arr, pos, state)\n",
    "    elif pos == 3:\n",
    "        arr = [0, 4, 6]\n",
    "        state, h = move(arr, pos, state)\n",
    "    elif pos == 4:\n",
    "        arr = [1, 3, 5, 7]\n",
    "        state, h = move(arr, pos, state)\n",
    "    elif pos == 5:\n",
    "        arr = [2, 4, 8]\n",
    "        state, h = move(arr, pos, state)\n",
    "    elif pos == 6:\n",
    "        arr = [3, 7]\n",
    "        state, h = move(arr, pos, state)\n",
    "    elif pos == 7:\n",
    "        arr = [4, 6, 8]\n",
    "        state, h = move(arr, pos, state)\n",
    "    elif pos == 8:\n",
    "        arr = [5, 6]\n",
    "        state, h = move(arr, pos, state)\n",
    "\n",
    "    print(\"\\n------ Level \" + str(Level) + \" ------\")\n",
    "    print_in_format(state)\n",
    "    print(\"\\nHeuristic Value(Misplaced) : \" + str(h))\n",
    "\n",
    "\n",
    "\n",
    "# count is the function that counts the amount of misplaced tiles int the 8 puzzle.\n",
    "# it compares the puzzle with a solved one to find the total number of tiles that are not in correct position."
   ]
  }
 ],
 "metadata": {
  "kernelspec": {
   "display_name": "Python 3 (ipykernel)",
   "language": "python",
   "name": "python3"
  },
  "language_info": {
   "codemirror_mode": {
    "name": "ipython",
    "version": 3
   },
   "file_extension": ".py",
   "mimetype": "text/x-python",
   "name": "python",
   "nbconvert_exporter": "python",
   "pygments_lexer": "ipython3",
   "version": "3.9.7"
  }
 },
 "nbformat": 4,
 "nbformat_minor": 5
}
